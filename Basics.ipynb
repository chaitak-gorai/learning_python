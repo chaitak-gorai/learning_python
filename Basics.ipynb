{
    "cells": [
        {
            "cell_type": "code",
            "execution_count": null,
            "source": [
                "# int 0\r\n",
                "# str 'Tim', \"Hello\"\r\n",
                "# bool True,  False\r\n",
                "# float 0.32"
            ],
            "outputs": [],
            "metadata": {}
        },
        {
            "cell_type": "code",
            "execution_count": 1,
            "source": [
                "x=10\r\n",
                "y=6\r\n",
                "a=x+y\r\n",
                "b=x-y \r\n",
                "c=x*y\r\n",
                "d=x/y\r\n",
                "e=x//y\r\n",
                "f=x**y\r\n",
                "g=x%y\r\n",
                "print(a,b,c,d,e,f,g)\r\n",
                "  "
            ],
            "outputs": [
                {
                    "output_type": "stream",
                    "name": "stdout",
                    "text": [
                        "16 4 60 1.6666666666666667 1 1000000 4\n"
                    ]
                }
            ],
            "metadata": {}
        },
        {
            "cell_type": "code",
            "execution_count": 2,
            "source": [
                "x=input()\r\n",
                "print(type(x))\r\n",
                "print(int(x))"
            ],
            "outputs": [
                {
                    "output_type": "stream",
                    "name": "stdout",
                    "text": [
                        "<class 'str'>\n",
                        "10\n"
                    ]
                }
            ],
            "metadata": {}
        },
        {
            "cell_type": "code",
            "execution_count": null,
            "source": [
                "# >\r\n",
                "# <\r\n",
                "# <=\r\n",
                "# >=\r\n",
                "# ==\r\n",
                "# !=\r\n",
                "# if condition==true:\r\n",
                "#     do this"
            ],
            "outputs": [],
            "metadata": {}
        },
        {
            "cell_type": "code",
            "execution_count": 9,
            "source": [
                "age=int(input())\r\n",
                "if age>18:\r\n",
                "    print(\"eligible\")\r\n",
                "elif age==18:\r\n",
                "    print(\"nice\")\r\n",
                "else:\r\n",
                "    print(\"not eligible\")"
            ],
            "outputs": [
                {
                    "output_type": "stream",
                    "name": "stdout",
                    "text": [
                        "nice\n"
                    ]
                }
            ],
            "metadata": {}
        },
        {
            "cell_type": "code",
            "execution_count": 14,
            "source": [
                "x=10\r\n",
                "y=5\r\n",
                "if not(x==y or x+y==10):\r\n",
                "    print(True)"
            ],
            "outputs": [
                {
                    "output_type": "stream",
                    "name": "stdout",
                    "text": [
                        "True\n"
                    ]
                }
            ],
            "metadata": {}
        },
        {
            "cell_type": "code",
            "execution_count": 17,
            "source": [
                "x=27\r\n",
                "y=7\r\n",
                "if x==2:\r\n",
                "    if y==3:\r\n",
                "        print(\"both\")\r\n",
                "    else:\r\n",
                "        print('only 1')\r\n",
                "else:\r\n",
                "    print(\"not\")"
            ],
            "outputs": [
                {
                    "output_type": "stream",
                    "name": "stdout",
                    "text": [
                        "none\n"
                    ]
                }
            ],
            "metadata": {}
        }
    ],
    "metadata": {
        "orig_nbformat": 4,
        "language_info": {
            "name": "python",
            "version": "3.7.7",
            "mimetype": "text/x-python",
            "codemirror_mode": {
                "name": "ipython",
                "version": 3
            },
            "pygments_lexer": "ipython3",
            "nbconvert_exporter": "python",
            "file_extension": ".py"
        },
        "kernelspec": {
            "name": "python3",
            "display_name": "Python 3.7.7 64-bit"
        },
        "interpreter": {
            "hash": "30d4d018e3b1aef36cdb380ee96b2e43dfcaaef22337e47950a658e1beba44f5"
        }
    },
    "nbformat": 4,
    "nbformat_minor": 2
}